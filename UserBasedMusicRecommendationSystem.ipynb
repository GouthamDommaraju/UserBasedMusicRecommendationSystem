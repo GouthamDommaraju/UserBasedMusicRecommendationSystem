{
  "nbformat": 4,
  "nbformat_minor": 0,
  "metadata": {
    "colab": {
      "name": "UserBasedMusicRecommendationSystem.ipynb",
      "provenance": [],
      "authorship_tag": "ABX9TyMY3zcJtaDp+aNil23jnDUU"
    },
    "kernelspec": {
      "name": "python3",
      "display_name": "Python 3"
    }
  },
  "cells": [
    {
      "cell_type": "markdown",
      "metadata": {
        "id": "sANgDdYkFHo7",
        "colab_type": "text"
      },
      "source": [
        "# Summary\n",
        "\n",
        "Created on Thu Jan 23 2020 <br>\n",
        "@author: goutham <br>\n",
        "\n",
        "### User Based Music Recommendation System <br>\n",
        "\n",
        "Topics\n",
        "* Collabarative Filtering\n",
        "* User-Based or Memory-Based Filtering <br>\n",
        "\n",
        "Similarity Measures Used: \n",
        "* Minkowski Distance\n",
        "* Pearson Correlation <br>\n",
        "\n",
        "The purpose of this code is to show rudimentary working of a recommendation system. Hence, all the procedures are coded at the least possible complexity. That said, this code could be used as a starting point to build a complex recommendation system."
      ]
    },
    {
      "cell_type": "markdown",
      "metadata": {
        "id": "1yeXCw0vFTVZ",
        "colab_type": "text"
      },
      "source": [
        "# Setup the Environment"
      ]
    },
    {
      "cell_type": "code",
      "metadata": {
        "id": "Woh1Jxx1FWvF",
        "colab_type": "code",
        "colab": {}
      },
      "source": [
        "# Import required packages and functions\n",
        "import math\n",
        "from operator import itemgetter"
      ],
      "execution_count": 0,
      "outputs": []
    },
    {
      "cell_type": "markdown",
      "metadata": {
        "id": "GBGzA6PkFZal",
        "colab_type": "text"
      },
      "source": [
        "# Create distance and similarity calculation modules as a Class"
      ]
    },
    {
      "cell_type": "code",
      "metadata": {
        "id": "slVdBCKhFGWX",
        "colab_type": "code",
        "colab": {}
      },
      "source": [
        "# definie class similarity\n",
        "class similarity:\n",
        "    \n",
        "    # Class instantiation \n",
        "    def __init__ (self, ratingP, ratingQ):\n",
        "        self.ratings1 = ratingP\n",
        "        self.ratings2 = ratingQ\n",
        "\n",
        "    # Minkowski Distance between two vectors\n",
        "    def minkowski(self, r):\n",
        "    \n",
        "        # calcualte minkowski distance\n",
        "        distance = 0       \n",
        "        for k in (set(self.ratings1.keys()) & set(self.ratings2.keys())):\n",
        "            p = self.ratings1[k]\n",
        "            q = self.ratings2[k]\n",
        "            distance += pow(abs(p - q), r)\n",
        "    \n",
        "        # return value of minkowski distance\n",
        "        return pow(distance,1/r)\n",
        "\n",
        "    # Pearson Correlation between two vectors\n",
        "    def pearson(self):\n",
        "        \n",
        "        # Step 1.1\n",
        "        # set n to the number of common keys\n",
        "        # do not hardcode! \n",
        "        # this should work no matter which 2 dictionares we provide\n",
        "        commonRat = set(self.ratings1.keys()) & set(self.ratings2.keys())\n",
        "        n = len(commonRat)\n",
        "        \n",
        "        # Step 1.2\n",
        "        # error check for n==0 condition, and\n",
        "        # return -2 if n==0\n",
        "        if n==0:\n",
        "            n = -2\n",
        "        else:\n",
        "            n = n\n",
        "         \n",
        "        # Step 1.3\n",
        "        # use a SINGLE for loop to calculate the partial sums\n",
        "        # in the computationally efficient form of the pearson correlation   \n",
        "        sumP=0\n",
        "        sumPsq=0\n",
        "        sumQ=0\n",
        "        sumQsq=0\n",
        "        sumPQ=0\n",
        "        for x in commonRat:\n",
        "            p = self.ratings1[x]\n",
        "            q = self.ratings2[x]\n",
        "            sumP = sumP+p\n",
        "            sumPsq = sumPsq+(p**2)\n",
        "            sumQ = sumQ+q\n",
        "            sumQsq = sumQsq+(q**2)\n",
        "            sumPQ = sumPQ+(p*q)\n",
        "          \n",
        "        # Step 1.4\n",
        "        # calcualte the numerator term for pearson correlation\n",
        "        # using relevant partial sums\n",
        "        numer = sumPQ-((sumP*sumQ)/n)\n",
        "        \n",
        "        # Step 1.5\n",
        "        # calcualte the denominator term for pearson correlation\n",
        "        # using relevant partial sums\n",
        "        denor = (pow(sumPsq-((sumP**2)/n),1/2)) * (pow(sumQsq-((sumQ**2)/n),1/2))\n",
        "        \n",
        "        # Step 1.6\n",
        "        # error check for denominator==0 condition\n",
        "        # return -2 if denominator==0\n",
        "        if denor==0:\n",
        "            denor = -2\n",
        "        else:\n",
        "            denor = denor\n",
        "\n",
        "        # Step 1.7\n",
        "        # calcualte the pearson correlation \n",
        "        # using the numerator and deonomminator\n",
        "        # and return the pearson correlation\n",
        "        r = numer/denor\n",
        "        return r"
      ],
      "execution_count": 0,
      "outputs": []
    },
    {
      "cell_type": "markdown",
      "metadata": {
        "id": "vsn0a3c_F3Wy",
        "colab_type": "text"
      },
      "source": [
        "# Load the data"
      ]
    },
    {
      "cell_type": "code",
      "metadata": {
        "id": "fEYkxll4ExrN",
        "colab_type": "code",
        "colab": {}
      },
      "source": [
        "# As the intention was to show how the system works, the data size is limited for ease of processing\n",
        "\n",
        "# user ratings\n",
        "songData = {\"Angelica\": {\"Blues Traveler\": 3.5, \"Broken Bells\": 2.0, \"Norah Jones\": 4.5, \"Phoenix\": 5.0, \"Slightly Stoopid\": 1.5, \"The Strokes\": 2.5, \"Vampire Weekend\": 2.0},\n",
        "         \"Bill\":{\"Blues Traveler\": 2.0, \"Broken Bells\": 3.5, \"Deadmau5\": 4.0, \"Phoenix\": 2.0, \"Slightly Stoopid\": 3.5, \"Vampire Weekend\": 3.0},\n",
        "         \"Chan\": {\"Blues Traveler\": 5.0, \"Broken Bells\": 1.0, \"Deadmau5\": 1.0, \"Norah Jones\": 3.0, \"Phoenix\": 5, \"Slightly Stoopid\": 1.0},\n",
        "         \"Dan\": {\"Blues Traveler\": 3.0, \"Broken Bells\": 4.0, \"Deadmau5\": 4.5, \"Phoenix\": 3.0, \"Slightly Stoopid\": 4.5, \"The Strokes\": 4.0, \"Vampire Weekend\": 2.0},\n",
        "         \"Hailey\": {\"Broken Bells\": 4.0, \"Deadmau5\": 1.0, \"Norah Jones\": 4.0, \"The Strokes\": 4.0, \"Vampire Weekend\": 1.0},\n",
        "         \"Jordyn\":  {\"Broken Bells\": 4.5, \"Deadmau5\": 4.0, \"Norah Jones\": 5.0, \"Phoenix\": 5.0, \"Slightly Stoopid\": 4.5, \"The Strokes\": 4.0, \"Vampire Weekend\": 4.0},\n",
        "         \"Sam\": {\"Blues Traveler\": 5.0, \"Broken Bells\": 2.0, \"Norah Jones\": 3.0, \"Phoenix\": 5.0, \"Slightly Stoopid\": 4.0, \"The Strokes\": 5.0},\n",
        "         \"Veronica\": {\"Blues Traveler\": 3.0, \"Norah Jones\": 5.0, \"Phoenix\": 4.0, \"Slightly Stoopid\": 2.5, \"The Strokes\": 3.0}\n",
        "        }"
      ],
      "execution_count": 0,
      "outputs": []
    },
    {
      "cell_type": "markdown",
      "metadata": {
        "id": "4xlh7GyEGJMM",
        "colab_type": "text"
      },
      "source": [
        "# Make a Recommendation"
      ]
    },
    {
      "cell_type": "code",
      "metadata": {
        "id": "8lcNLxBdGWDB",
        "colab_type": "code",
        "colab": {}
      },
      "source": [
        "# for whom are we making recommendations?\n",
        "userX = \"Veronica\" #Angelica,Bill,Chan,Dan,Hailey,Jordyn,Sam,Veronica"
      ],
      "execution_count": 0,
      "outputs": []
    },
    {
      "cell_type": "code",
      "metadata": {
        "id": "_fwoDz1sGMDI",
        "colab_type": "code",
        "colab": {
          "base_uri": "https://localhost:8080/",
          "height": 104
        },
        "outputId": "a45a68a7-7610-479a-d376-d846427d6b21"
      },
      "source": [
        "# Step 2.0\n",
        "# Extract userX ratings\n",
        "userXRatings = songData[userX]\n",
        "\n",
        "# Step 2.1\n",
        "# find the similarity measure (pearson correlation) between userX's ratings, and each of the other user's ratings.\n",
        "# DO NOT include userX's similarity measure from userX.\n",
        "# use a for loop to get at the other users and their ratings - DO NOT hard code.\n",
        "# use the similarity class to caclulate the simialrity measure (pearson correlation) between user ratings.\n",
        "# assign list of (user, similarityMeasure) tuples to a variable called userSimilarities.\n",
        "# Example of how userSimilarities might look: [('Angelica', 0.42), ('Bill', 0.0), ('Chan', 0.5), ('Dan', 0.39), ('Jordyn', 0.61), ('Sam', -2), ('Veronica', -2)]\n",
        "userSimilarities = []\n",
        "for userY, userYRatings in songData.items():\n",
        "    sim = similarity(userXRatings,userYRatings)\n",
        "    pearsonXY = sim.pearson()\n",
        "    if userX != userY:\n",
        "        userSimilarityXY = (userY,pearsonXY)\n",
        "        userSimilarities.append(userSimilarityXY)\n",
        "#print(userSimilarities)\n",
        "\n",
        "# Step 2.2\n",
        "# sort the list of tuples by highest simialrity to lowest similarity.\n",
        "# assign the sorted list to a variable called sortedUserSimilarities.\n",
        "# Example of how sortedUserSimilarities might look: [('Jordyn', 0.61), ('Chan', 0.5), ('Angelica', 0.42), ('Dan', 0.39), ('Bill', 0.0), ('Sam', -2), ('Veronica', -2)]\n",
        "sortedUserSimilarities = sorted(userSimilarities, key=itemgetter(1), reverse=True)\n",
        "#print(sortedUserSimilarities)\n",
        "\n",
        "# Step 2.3\n",
        "# userX's NN is the user at the 0th position of the sorted list.\n",
        "# assign the NN to a variable called userXNN.\n",
        "# Example of how userXNN might look: 'Jordyn'\n",
        "# To keep things simple, we are considering only one NN\n",
        "userXNN = sortedUserSimilarities[0][0]\n",
        "#print(userXNN)\n",
        "\n",
        "# Step 2.4\n",
        "# recos for userX should include albums rated by userXNN, not already rated by userX.\n",
        "# assign the list of (album, rating) tuples to a variable called userXRecos.\n",
        "# Example of how userXRecos might look: [('Slightly Stoopid', 4.5), ('Phoenix', 5.0)]\n",
        "userXNNRatings = songData[userXNN]\n",
        "\n",
        "userXRecos = []\n",
        "for artist in set(userXNNRatings.keys()):\n",
        "    if artist not in set(userXRatings.keys()):\n",
        "        artistRating = (artist,userXNNRatings[artist])\n",
        "        userXRecos.append(artistRating)\n",
        "#print(userXRecos)\n",
        "\n",
        "# Step 2.5\n",
        "# sort list of tuples by highest rating to lowest rating.\n",
        "# assign sorted list to a varaible userXSortedRecos.\n",
        "# Example of how userXSortedRecos might look: [('Phoenix', 5.0), ('Slightly Stoopid', 4.5)]\n",
        "userXSortedRecos = sorted(userXRecos, key=itemgetter(1), reverse=True)\n",
        "#print(userXSortedRecos)\n",
        "\n",
        "# Final Output\n",
        "print()\n",
        "print (\"Recommendations for\", userX)\n",
        "print (\"-\"*(len(\"Recommendations for\"+userX)+1))\n",
        "print ()\n",
        "print (userXSortedRecos)"
      ],
      "execution_count": 5,
      "outputs": [
        {
          "output_type": "stream",
          "text": [
            "\n",
            "Recommendations for Veronica\n",
            "----------------------------\n",
            "\n",
            "[('Broken Bells', 2.0), ('Vampire Weekend', 2.0)]\n"
          ],
          "name": "stdout"
        }
      ]
    }
  ]
}